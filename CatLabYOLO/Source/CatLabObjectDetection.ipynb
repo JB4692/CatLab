{
 "cells": [
  {
   "cell_type": "code",
   "execution_count": 5,
   "id": "f7e2639f-d9f2-45ce-a90e-48a32b0a95cd",
   "metadata": {},
   "outputs": [
    {
     "name": "stdout",
     "output_type": "stream",
     "text": [
      "c:\\Python312\\python.exe\n",
      "C:\\msys64\\mingw64\\bin\\python.exe\n"
     ]
    }
   ],
   "source": [
    "#!which python for linux and mac\n",
    "!where python   "
   ]
  },
  {
   "cell_type": "code",
   "execution_count": 6,
   "id": "7b64781e-5f97-4b93-ab6a-35f4bfe416a9",
   "metadata": {},
   "outputs": [],
   "source": [
    "import cv2\n",
    "import numpy as np\n",
    "import os\n",
    "\n",
    "def check_opencv():\n",
    "    print(f\"✅ OpenCV Version: {cv2.__version__}\")\n",
    "\n",
    "    try:\n",
    "        dnn_info = cv2.getBuildInformation()\n",
    "        if \"CUDA\" in dnn_info:\n",
    "            print(\"🔍 Checking OpenCV DNN build...\")\n",
    "            print(dnn_info.split(\"CUDA\")[1].split(\"\\n\")[0].strip())  # Show CUDA status\n",
    "        else:\n",
    "            print(\"⚠️ CUDA information not found in OpenCV build.\")\n",
    "    except Exception as e:\n",
    "        print(f\"❌ Error checking OpenCV build: {e}\")\n",
    "\n",
    "def check_cuda():\n",
    "    try:\n",
    "        net = cv2.dnn.readNet(\"yolov4.weights\", \"yolov4.cfg\")\n",
    "        net.setPreferableBackend(cv2.dnn.DNN_BACKEND_CUDA)\n",
    "        net.setPreferableTarget(cv2.dnn.DNN_TARGET_CUDA)\n",
    "        print(\"✅ CUDA is available for OpenCV DNN!\")\n",
    "    except cv2.error as e:\n",
    "        print(\"❌ CUDA is NOT available for OpenCV DNN.\")\n",
    "        print(f\"Error: {e}\")\n",
    "\n",
    "def check_files():\n",
    "    files = [\"yolov4.cfg\", \"yolov4.weights\", \"cards.names\"]\n",
    "    missing = [f for f in files if not os.path.exists(f)]\n",
    "    if missing:\n",
    "        print(f\"❌ Missing files: {', '.join(missing)}\")\n",
    "    else:\n",
    "        print(\"✅ All YOLO files are present!\")\n",
    "\n",
    "def check_dependencies():\n",
    "    print(\"🔍 Checking dependencies...\\n\")\n",
    "    \n",
    "    # Check OpenCV and CUDA\n",
    "    check_opencv()\n",
    "    check_cuda()\n",
    "    \n",
    "    # Check if YOLO files exist\n",
    "    check_files()\n",
    "    \n",
    "    print(\"\\n🔍 Dependency check complete!\")\n"
   ]
  },
  {
   "cell_type": "code",
   "execution_count": 7,
   "id": "fa10c833-e656-4eb0-a975-20b6db942ff1",
   "metadata": {},
   "outputs": [
    {
     "name": "stdout",
     "output_type": "stream",
     "text": [
      "🔍 Checking dependencies...\n",
      "\n",
      "✅ OpenCV Version: 4.11.0\n",
      "⚠️ CUDA information not found in OpenCV build.\n",
      "✅ CUDA is available for OpenCV DNN!\n",
      "✅ All YOLO files are present!\n",
      "\n",
      "🔍 Dependency check complete!\n"
     ]
    }
   ],
   "source": [
    "# Check for dependencies\n",
    "check_dependencies()"
   ]
  },
  {
   "cell_type": "code",
   "execution_count": 8,
   "id": "cb016077-6735-4442-aa44-0ae971a85642",
   "metadata": {},
   "outputs": [
    {
     "name": "stdout",
     "output_type": "stream",
     "text": [
      "Loading YOLO model...\n",
      "Checking for CUDA Enabled Devices...\n",
      "CUDA is not available. Using CPU for inference.\n"
     ]
    }
   ],
   "source": [
    "# !! READ ME !!\n",
    "# If you run this program it turns on your webcam\n",
    "\n",
    "# NOTES\n",
    "# TODO: \n",
    "# Transfer data collected to Godot for processing\n",
    "# Transfer new model once refined and completed\n",
    "\n",
    "# LATER\n",
    "# When or if we switch to using sockets for reading in real time, write to a json and read in Godot via UDP\n",
    "\n",
    "# Paths for easy access\n",
    "cfg_path = \"yolov4.cfg\"\n",
    "weights_path = \"yolov4.weights\"\n",
    "names_path = \"cards.names\"\n",
    "\n",
    "# Load YOLO Model\n",
    "print(\"Loading YOLO model...\")\n",
    "net = cv2.dnn.readNet(weights_path, cfg_path)\n",
    "\n",
    "# Check for CUDA availability\n",
    "print(\"Checking for CUDA Enabled Devices...\")\n",
    "cuda_available = cv2.cuda.getCudaEnabledDeviceCount() > 0\n",
    "\n",
    "if cuda_available:\n",
    "    print(\"CUDA is available! Using GPU for inference.\")\n",
    "    net.setPreferableBackend(cv2.dnn.DNN_BACKEND_CUDA)\n",
    "    net.setPreferableTarget(cv2.dnn.DNN_TARGET_CUDA)\n",
    "else:\n",
    "    print(\"CUDA is not available. Using CPU for inference.\")\n",
    "    net.setPreferableBackend(cv2.dnn.DNN_BACKEND_OPENCV)\n",
    "    net.setPreferableTarget(cv2.dnn.DNN_TARGET_CPU)\n",
    "\n",
    "layer_names = net.getLayerNames()\n",
    "output_layers = [layer_names[i - 1] for i in net.getUnconnectedOutLayers().flatten()] # Returns a tuple\n",
    "\n",
    "# Load class labels\n",
    "with open(names_path, \"r\") as f:\n",
    "    classes = [line.strip() for line in f.readlines()]\n",
    "\n",
    "# Initialize video capture\n",
    "# If its using the wrong camera for you, try changing this\n",
    "cap = cv2.VideoCapture(0)  # Use 1 for webcam, 0 for camera. We can also use a video path.\n",
    "\n",
    "while True:\n",
    "    ret, frame = cap.read()\n",
    "    if not ret:\n",
    "        break\n",
    "\n",
    "    height, width, channels = frame.shape\n",
    "\n",
    "    # Prepare input image for YOLO\n",
    "    blob = cv2.dnn.blobFromImage(frame, 1/255.0, (416, 416), swapRB=True, crop=False)\n",
    "    net.setInput(blob)\n",
    "    detections = net.forward(output_layers)\n",
    "\n",
    "    results = []  # Store object data\n",
    "\n",
    "    for output in detections:\n",
    "        for detection in output:\n",
    "            scores = detection[5:]\n",
    "            class_id = np.argmax(scores)\n",
    "            confidence = scores[class_id]\n",
    "\n",
    "            if confidence > 0.5:  # Confidence threshold\n",
    "                # Object detected\n",
    "                center_x = int(detection[0] * width)\n",
    "                center_y = int(detection[1] * height)\n",
    "                results.append({\n",
    "                    \"id\": class_id,  # Object class ID\n",
    "                    \"label\": classes[class_id],  # Class name\n",
    "                    \"x\": center_x,\n",
    "                    \"y\": center_y,\n",
    "                    \"confidence\": float(confidence)\n",
    "                })\n",
    "\n",
    "                # Draw detection\n",
    "                cv2.circle(frame, (center_x, center_y), 5, (0, 255, 0), -1)\n",
    "                cv2.putText(frame, f\"{classes[class_id]} ({center_x}, {center_y})\",\n",
    "                            (center_x - 10, center_y - 10), cv2.FONT_HERSHEY_SIMPLEX,\n",
    "                            0.5, (255, 0, 0), 2)\n",
    "\n",
    "    # Display the processed frame\n",
    "    cv2.imshow(\"YOLO Object Detection\", frame)\n",
    "\n",
    "    # TODO: Send data to Godot (could use networking with sockets or file writing based solution)\n",
    "\n",
    "    if cv2.waitKey(1) & 0xFF == ord('q'):  # q to exit\n",
    "        break\n",
    "\n",
    "cap.release()\n",
    "cv2.destroyAllWindows()"
   ]
  },
  {
   "cell_type": "code",
   "execution_count": null,
   "id": "9fec8bbf-f968-4d38-a91c-0a0189d9c0dc",
   "metadata": {},
   "outputs": [],
   "source": []
  }
 ],
 "metadata": {
  "kernelspec": {
   "display_name": "Python 3",
   "language": "python",
   "name": "python3"
  },
  "language_info": {
   "codemirror_mode": {
    "name": "ipython",
    "version": 3
   },
   "file_extension": ".py",
   "mimetype": "text/x-python",
   "name": "python",
   "nbconvert_exporter": "python",
   "pygments_lexer": "ipython3",
   "version": "3.12.2"
  }
 },
 "nbformat": 4,
 "nbformat_minor": 5
}
