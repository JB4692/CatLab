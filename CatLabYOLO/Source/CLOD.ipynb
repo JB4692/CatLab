{
 "cells": [
  {
   "cell_type": "code",
   "execution_count": 5,
   "id": "a06f6e94-817a-4b56-8e7c-9c2b9471b00f",
   "metadata": {},
   "outputs": [],
   "source": [
    "# Install necessary packages if you haven't already\n",
    "# MAKE SURE YOU UNINSTALL HEADLESS\n",
    "# pip install roboflow opencv-python"
   ]
  },
  {
   "cell_type": "code",
   "execution_count": null,
   "id": "687c1221-2c56-4e5d-8a33-647f3a45a05f",
   "metadata": {},
   "outputs": [
    {
     "name": "stdout",
     "output_type": "stream",
     "text": [
      "loading Roboflow workspace...\n",
      "loading Roboflow project...\n",
      "Roboflow model loaded successfully!\n"
     ]
    }
   ],
   "source": [
    "# import cv2\n",
    "from roboflow import Roboflow\n",
    "import time\n",
    "\n",
    "rf = Roboflow(api_key=\"\")\n",
    "project = rf.workspace().project(\"catlab-level-recognition-model\")\n",
    "model = project.version(4).model\n",
    "\n",
    "print(\"Roboflow model loaded successfully!\")"
   ]
  },
  {
   "cell_type": "code",
   "execution_count": 7,
   "id": "645a656f-3c0d-4a21-ae3b-31d30f6c24a5",
   "metadata": {},
   "outputs": [],
   "source": [
    "def draw_predictions(image, predictions):\n",
    "    output_img = image.copy()\n",
    "    \n",
    "    for pred in predictions['predictions']:\n",
    "        # Get bounding box coordinates and class information\n",
    "        x = int(pred['x'])\n",
    "        y = int(pred['y'])\n",
    "        width = int(pred['width'])\n",
    "        height = int(pred['height'])\n",
    "        label = pred['class']\n",
    "        confidence = pred['confidence']\n",
    "        \n",
    "        # Calculate top-left and bottom-right points\n",
    "        x1 = int(x - width/2)\n",
    "        y1 = int(y - height/2)\n",
    "        x2 = int(x + width/2)\n",
    "        y2 = int(y + height/2)\n",
    "        \n",
    "        # Draw rectangle and label on the image\n",
    "        cv2.rectangle(output_img, (x1, y1), (x2, y2), (0, 255, 0), 2)\n",
    "        text = f\"{label}: {confidence:.2f}\"\n",
    "        cv2.putText(output_img, text, (x1, y1 - 10), cv2.FONT_HERSHEY_SIMPLEX, 0.5, (0, 255, 0), 2)\n",
    "    \n",
    "    return output_img"
   ]
  },
  {
   "cell_type": "code",
   "execution_count": null,
   "id": "a2d5a8c2-8c8f-4e86-9c3f-1d8f5f2d2f7d",
   "metadata": {},
   "outputs": [
    {
     "name": "stdout",
     "output_type": "stream",
     "text": [
      "Starting video capture. Press 's' to save the current detections. Press 'q' to exit.\n"
     ]
    }
   ],
   "source": [
    "import cv2\n",
    "import time\n",
    "import csv\n",
    "\n",
    "\n",
    "cap = cv2.VideoCapture(0)\n",
    "\n",
    "if not cap.isOpened():\n",
    "    raise Exception(\"Could not open video device\")\n",
    "\n",
    "print(\"Starting video capture. Press 's' to save the current detections. Press 'q' to exit.\")\n",
    "\n",
    "while True:\n",
    "    ret, frame = cap.read()\n",
    "    if not ret:\n",
    "        print(\"Failed to grab frame\")\n",
    "        break\n",
    "\n",
    "    frame = cv2.resize(frame, (1152, 648))\n",
    "    \n",
    "    # Get detections (Assuming 'model' is already initialized)\n",
    "    predictions = model.predict(frame, confidence=40, overlap=30).json()\n",
    "    \n",
    "    # Extract only the objects visible in the current frame\n",
    "    frame_objects = []\n",
    "    for obj in predictions['predictions']:\n",
    "        frame_objects.append({\n",
    "            \"label\": obj[\"class\"],\n",
    "            \"confidence\": obj[\"confidence\"],\n",
    "            \"x\": obj[\"x\"],\n",
    "            \"y\": obj[\"y\"],\n",
    "            \"width\": obj[\"width\"],\n",
    "            \"height\": obj[\"height\"]\n",
    "        })\n",
    "\n",
    "    # Draw detections on the frame\n",
    "    output_frame = draw_predictions(frame, predictions)\n",
    "\n",
    "    # Display the frame (If GUI is supported)\n",
    "    cv2.imshow('Object Detection', output_frame)\n",
    "\n",
    "    # User input handling\n",
    "    key = cv2.waitKey(1) & 0xFF\n",
    "\n",
    "    if key == ord('s'):\n",
    "        with open(\"current_objects.csv\", mode=\"w\", newline=\"\") as file:\n",
    "            writer = csv.writer(file)\n",
    "            for obj in frame_objects:\n",
    "                writer.writerow([obj[\"label\"], obj[\"x\"], obj[\"y\"], obj[\"width\"], obj[\"height\"]])\n",
    "        print(\"Current frame saved to 'current_objects.csv'.\")\n",
    "\n",
    "    if key == ord('q'):\n",
    "        break\n",
    "\n",
    "    time.sleep(0.1)  # Reduce API calls and CPU usage\n",
    "\n",
    "cap.release()\n",
    "cv2.destroyAllWindows()\n",
    "\n",
    "\n"
   ]
  }
 ],
 "metadata": {
  "kernelspec": {
   "display_name": "Python 3",
   "language": "python",
   "name": "python3"
  },
  "language_info": {
   "codemirror_mode": {
    "name": "ipython",
    "version": 3
   },
   "file_extension": ".py",
   "mimetype": "text/x-python",
   "name": "python",
   "nbconvert_exporter": "python",
   "pygments_lexer": "ipython3",
   "version": "3.12.2"
  }
 },
 "nbformat": 4,
 "nbformat_minor": 5
}
